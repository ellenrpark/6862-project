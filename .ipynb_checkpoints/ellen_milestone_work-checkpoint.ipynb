{
 "cells": [
  {
   "cell_type": "code",
   "execution_count": 34,
   "metadata": {},
   "outputs": [],
   "source": [
    "import pandas as pd\n",
    "import numpy as np\n",
    "from sklearn.linear_model import LinearRegression\n",
    "import matplotlib.pyplot as plt\n",
    "from sklearn.metrics import mean_squared_error"
   ]
  },
  {
   "cell_type": "code",
   "execution_count": 9,
   "metadata": {},
   "outputs": [
    {
     "name": "stdout",
     "output_type": "stream",
     "text": [
      "       LATITUDE  LONGITUDE    PRES     TEMP      SAL    OXY   NITR   PHSP  \\\n",
      "0       -45.000   146.2200     4.1  15.7440  35.4240  241.6   2.37  0.140   \n",
      "1       -45.000   146.2200    22.0  15.5310  35.3940  241.8   2.54  0.150   \n",
      "2       -45.000   146.2200    51.5  14.4770  35.2600  239.1   4.68  0.280   \n",
      "3       -45.000   146.2200   202.8  12.3210  35.1620  224.9  10.52  0.590   \n",
      "4       -45.000   146.2200   498.6   9.0490  34.6360  247.7  16.62  0.960   \n",
      "...         ...        ...     ...      ...      ...    ...    ...    ...   \n",
      "42407   -60.013   -30.8953  1697.8   0.0694  34.6681  218.5  32.60  2.251   \n",
      "42408   -60.013   -30.8953  1996.5  -0.0152  34.6641  222.7  32.40  2.247   \n",
      "42409   -60.013   -30.8953  2299.0  -0.0551  34.6618  224.9  32.50  2.247   \n",
      "42410   -60.013   -30.8953  2597.7  -0.0707  34.6601  226.8  32.40  2.248   \n",
      "42411   -60.013   -30.8953  2953.5  -0.0603  34.6595  231.2  32.30  2.246   \n",
      "\n",
      "         SILI  MONTH  \n",
      "0        0.15      1  \n",
      "1        0.18      1  \n",
      "2        0.66      1  \n",
      "3        2.74      1  \n",
      "4        4.25      1  \n",
      "...       ...    ...  \n",
      "42407  121.10      1  \n",
      "42408  121.90      1  \n",
      "42409  122.90      1  \n",
      "42410  123.80      1  \n",
      "42411  123.70      1  \n",
      "\n",
      "[42412 rows x 10 columns]\n"
     ]
    }
   ],
   "source": [
    "# Load Data\n",
    "InputDataDir='data/GOSHIP_Data/QCFilteredData.csv'\n",
    "GOSHIP_Data=pd.read_csv(InputDataDir)\n",
    "GOSHIP_Data=GOSHIP_Data.iloc[:,3:]\n",
    "print(GOSHIP_Data)"
   ]
  },
  {
   "cell_type": "code",
   "execution_count": 17,
   "metadata": {},
   "outputs": [
    {
     "name": "stdout",
     "output_type": "stream",
     "text": [
      "       LATITUDE  LONGITUDE      PRES      TEMP       SAL       OXY      NITR  \\\n",
      "0      1.972425   1.207289 -0.967296  5.592470  3.041097  0.210208 -5.300686   \n",
      "1      1.972425   1.207289 -0.953505  5.507665  2.941475  0.214179 -5.267945   \n",
      "2      1.972425   1.207289 -0.930776  5.088020  2.496495  0.160573 -4.855791   \n",
      "3      1.972425   1.207289 -0.814206  4.229619  2.171062 -0.121352 -3.731035   \n",
      "4      1.972425   1.207289 -0.586305  2.926888  0.424349  0.331317 -2.556204   \n",
      "...         ...        ...       ...       ...       ...       ...       ...   \n",
      "42407 -0.016004  -0.287745  0.337627 -0.648296  0.530945 -0.248417  0.521467   \n",
      "42408 -0.016004  -0.287745  0.567762 -0.681979  0.517662 -0.165031  0.482948   \n",
      "42409 -0.016004  -0.287745  0.800826 -0.697865  0.510025 -0.121352  0.502208   \n",
      "42410 -0.016004  -0.287745  1.030961 -0.704076  0.504379 -0.083630  0.482948   \n",
      "42411 -0.016004  -0.287745  1.305090 -0.699935  0.502387  0.003727  0.463689   \n",
      "\n",
      "           PHSP      SILI  MONTH  \n",
      "0     -5.484854 -2.005782      1  \n",
      "1     -5.456219 -2.005030      1  \n",
      "2     -5.083957 -1.992991      1  \n",
      "3     -4.196255 -1.940821      1  \n",
      "4     -3.136739 -1.902948      1  \n",
      "...         ...       ...    ...  \n",
      "42407  0.560110  1.027831      1  \n",
      "42408  0.548656  1.047896      1  \n",
      "42409  0.548656  1.072978      1  \n",
      "42410  0.551520  1.095551      1  \n",
      "42411  0.545793  1.093043      1  \n",
      "\n",
      "[42412 rows x 10 columns]\n"
     ]
    }
   ],
   "source": [
    "# Standardize data\n",
    "from sklearn.preprocessing import StandardScaler\n",
    "scaler = StandardScaler().fit(GOSHIP_Data.iloc[:,:-1])\n",
    "data_scaled = scaler.transform(GOSHIP_Data.iloc[:,:-1])\n",
    "data_scaled = pd.DataFrame(data_scaled, columns = ['LATITUDE', 'LONGITUDE','PRES','TEMP','SAL','OXY','NITR','PHSP','SILI'])\n",
    "data_scaled['MONTH']=GOSHIP_Data.loc[:,'MONTH']\n",
    "print(data_scaled)\n"
   ]
  },
  {
   "cell_type": "code",
   "execution_count": 45,
   "metadata": {},
   "outputs": [
    {
     "name": "stdout",
     "output_type": "stream",
     "text": [
      "%% PHOSPHATE Cross validate k= 10  %%\n",
      "Training error:  0.05247707159289501\n",
      "Testing error:  0.05247729718562387\n"
     ]
    }
   ],
   "source": [
    "# Cross-Validate: Phosphate\n",
    "k=10\n",
    "# Shuffle Data\n",
    "data_shuffled = data_scaled.sample(frac=1)\n",
    "#print(data_shuffled)\n",
    "# Create data chunks index\n",
    "index_list=np.array(data_shuffled.index.to_list())\n",
    "chunk_index=np.array_split(index_list,k)\n",
    "#print(chunk_index)\n",
    "\n",
    "P_train_error = np.zeros(k)\n",
    "P_train_error[:]=np.NaN\n",
    "\n",
    "P_test_error = np.zeros(k)\n",
    "P_test_error[:]=np.NaN\n",
    "for i in np.arange(k):\n",
    "    \n",
    "    \n",
    "    test_ind=chunk_index[i]\n",
    "    train_data=data_shuffled.copy()\n",
    "    train_data=train_data.drop(index=test_ind)\n",
    "    \n",
    "    # training data\n",
    "    x_train=train_data.iloc[:,[0,1,2,3,4,5,6,9]]\n",
    "    y_train=train_data.iloc[:,7]\n",
    "    \n",
    "    # testing data\n",
    "    x_test=data_shuffled.iloc[test_ind, [0,1,2,3,4,5,6,9]]\n",
    "    y_test=data_shuffled.iloc[test_ind, 7]\n",
    "    \n",
    "    P_reg=LinearRegression().fit(x_train,y_train)\n",
    "    P_pred_train=P_reg.predict(x_train)\n",
    "    P_pred_test=P_reg.predict(x_test)\n",
    "    \n",
    "    # Calculate training error \n",
    "    P_train_error[i]=mean_squared_error(y_train, P_pred_train)\n",
    "    \n",
    "    # Calculate testing error\n",
    "    P_test_error[i]=mean_squared_error(y_test, P_pred_test)\n",
    "\n",
    "\n",
    "print('%% PHOSPHATE Cross validate k=',k,' %%')\n",
    "print('Training error: ',np.nanmean(train_error))\n",
    "print('Testing error: ', np.nanmean(test_error))"
   ]
  },
  {
   "cell_type": "code",
   "execution_count": 46,
   "metadata": {},
   "outputs": [
    {
     "name": "stdout",
     "output_type": "stream",
     "text": [
      "%% SILICATE Cross validate k= 10  %%\n",
      "Training error:  0.05247670206040937\n",
      "Testing error:  0.05248203559059931\n"
     ]
    }
   ],
   "source": [
    "# Cross-Validate: Silicate\n",
    "k=10\n",
    "# Shuffle Data\n",
    "data_shuffled = data_scaled.sample(frac=1)\n",
    "#print(data_shuffled)\n",
    "# Create data chunks index\n",
    "index_list=np.array(data_shuffled.index.to_list())\n",
    "chunk_index=np.array_split(index_list,k)\n",
    "#print(chunk_index)\n",
    "\n",
    "S_train_error = np.zeros(k)\n",
    "S_train_error[:]=np.NaN\n",
    "\n",
    "S_test_error = np.zeros(k)\n",
    "S_test_error[:]=np.NaN\n",
    "for i in np.arange(k):\n",
    "    \n",
    "    \n",
    "    test_ind=chunk_index[i]\n",
    "    train_data=data_shuffled.copy()\n",
    "    train_data=train_data.drop(index=test_ind)\n",
    "    \n",
    "    # training data\n",
    "    x_train=train_data.iloc[:,[0,1,2,3,4,5,6,9]]\n",
    "    y_train=train_data.iloc[:,8]\n",
    "    \n",
    "    # testing data\n",
    "    x_test=data_shuffled.iloc[test_ind, [0,1,2,3,4,5,6,9]]\n",
    "    y_test=data_shuffled.iloc[test_ind, 8]\n",
    "    \n",
    "    S_reg=LinearRegression().fit(x_train,y_train)\n",
    "    S_pred_train=S_reg.predict(x_train)\n",
    "    S_pred_test=S_reg.predict(x_test)\n",
    "    \n",
    "    # Calculate training error \n",
    "    S_train_error[i]=mean_squared_error(y_train, S_pred_train)\n",
    "    \n",
    "    # Calculate testing error\n",
    "    S_test_error[i]=mean_squared_error(y_test, S_pred_test)\n",
    "\n",
    "\n",
    "print('%% SILICATE Cross validate k=',k,' %%')\n",
    "print('Training error: ',np.nanmean(S_train_error))\n",
    "print('Testing error: ', np.nanmean(S_test_error))"
   ]
  },
  {
   "cell_type": "code",
   "execution_count": null,
   "metadata": {},
   "outputs": [],
   "source": []
  }
 ],
 "metadata": {
  "kernelspec": {
   "display_name": "Python [conda env:BCenv] *",
   "language": "python",
   "name": "conda-env-BCenv-py"
  },
  "language_info": {
   "codemirror_mode": {
    "name": "ipython",
    "version": 3
   },
   "file_extension": ".py",
   "mimetype": "text/x-python",
   "name": "python",
   "nbconvert_exporter": "python",
   "pygments_lexer": "ipython3",
   "version": "3.7.6"
  }
 },
 "nbformat": 4,
 "nbformat_minor": 4
}
