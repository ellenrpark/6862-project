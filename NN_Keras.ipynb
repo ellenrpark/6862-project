{
 "cells": [
  {
   "cell_type": "code",
   "execution_count": 1,
   "metadata": {
    "id": "hi0DNRqQK6Qk"
   },
   "outputs": [],
   "source": [
    "import numpy as np\n",
    "import pandas as pd\n",
    "from sklearn.linear_model import LinearRegression\n",
    "from sklearn import preprocessing\n",
    "from sklearn.model_selection import train_test_split\n",
    "from sklearn.metrics import mean_squared_error, r2_score\n",
    "# from sklearn.preprocessing import StandardScaler\n",
    "# from sklearn.preprocessing import OneHotEncoder\n",
    "import matplotlib.pyplot as plt\n",
    "import seaborn as sns\n"
   ]
  },
  {
   "cell_type": "code",
   "execution_count": 2,
   "metadata": {},
   "outputs": [
    {
     "name": "stdout",
     "output_type": "stream",
     "text": [
      "2.4.1\n"
     ]
    }
   ],
   "source": [
    "# For deep learning\n",
    "import tensorflow as tf\n",
    "\n",
    "from tensorflow import keras\n",
    "from tensorflow.keras import layers\n",
    "from tensorflow.keras.layers.experimental import preprocessing as keras_preprocessing\n",
    "\n",
    "print(tf.__version__)\n"
   ]
  },
  {
   "cell_type": "code",
   "execution_count": null,
   "metadata": {
    "colab": {
     "base_uri": "https://localhost:8080/"
    },
    "id": "IcgaNW0bOE1R",
    "outputId": "4df552b4-50b4-44b2-d951-ce915971db0d"
   },
   "outputs": [],
   "source": [
    "# for when working in google colab\n",
    "from google.colab import drive\n",
    "drive.mount('/content/drive/')"
   ]
  },
  {
   "cell_type": "code",
   "execution_count": 3,
   "metadata": {
    "id": "OZJMb0kFK6Qm"
   },
   "outputs": [],
   "source": [
    "# import data\n",
    "# data_file = '/content/drive/MyDrive/6862_project/QCFilteredData.csv'\n",
    "data_file = 'data/GOSHIP_Data/QCFilteredData.csv'\n",
    "### ignore lat lon for now. Add later after zoning\n",
    "### ignore month for now. One-hot encode later\n",
    "data = pd.read_csv(data_file, header=0, usecols=[3,4,5,6,7,8,9,10,11], \n",
    "                   names=['lat','lon','pres','temp','sal','oxy','nitr','phsp','sili'])"
   ]
  },
  {
   "cell_type": "code",
   "execution_count": 4,
   "metadata": {
    "id": "88DdO1jTK6Qr"
   },
   "outputs": [],
   "source": [
    "# split data into training, validation, testing set\n",
    "train_dataset = data.sample(frac=0.8, random_state=0)\n",
    "test_dataset = data.drop(train_dataset.index)\n"
   ]
  },
  {
   "cell_type": "code",
   "execution_count": 5,
   "metadata": {},
   "outputs": [],
   "source": [
    "train_features = train_dataset.copy()\n",
    "test_features = test_dataset.copy()\n",
    "\n",
    "train_phsp = train_features.pop('phsp')\n",
    "test_phsp = test_features.pop('phsp')\n",
    "\n",
    "train_sili = train_features.pop('sili')\n",
    "test_sili = test_features.pop('sili')"
   ]
  },
  {
   "cell_type": "code",
   "execution_count": 6,
   "metadata": {},
   "outputs": [
    {
     "data": {
      "text/html": [
       "<div>\n",
       "<style scoped>\n",
       "    .dataframe tbody tr th:only-of-type {\n",
       "        vertical-align: middle;\n",
       "    }\n",
       "\n",
       "    .dataframe tbody tr th {\n",
       "        vertical-align: top;\n",
       "    }\n",
       "\n",
       "    .dataframe thead th {\n",
       "        text-align: right;\n",
       "    }\n",
       "</style>\n",
       "<table border=\"1\" class=\"dataframe\">\n",
       "  <thead>\n",
       "    <tr style=\"text-align: right;\">\n",
       "      <th></th>\n",
       "      <th>mean</th>\n",
       "      <th>std</th>\n",
       "    </tr>\n",
       "  </thead>\n",
       "  <tbody>\n",
       "    <tr>\n",
       "      <th>lat</th>\n",
       "      <td>-59.903027</td>\n",
       "      <td>7.542840</td>\n",
       "    </tr>\n",
       "    <tr>\n",
       "      <th>lon</th>\n",
       "      <td>3.140392</td>\n",
       "      <td>118.452406</td>\n",
       "    </tr>\n",
       "    <tr>\n",
       "      <th>pres</th>\n",
       "      <td>1264.076808</td>\n",
       "      <td>1299.684429</td>\n",
       "    </tr>\n",
       "    <tr>\n",
       "      <th>temp</th>\n",
       "      <td>1.689565</td>\n",
       "      <td>2.498022</td>\n",
       "    </tr>\n",
       "    <tr>\n",
       "      <th>sal</th>\n",
       "      <td>34.508702</td>\n",
       "      <td>0.300963</td>\n",
       "    </tr>\n",
       "    <tr>\n",
       "      <th>oxy</th>\n",
       "      <td>230.972748</td>\n",
       "      <td>50.322881</td>\n",
       "    </tr>\n",
       "    <tr>\n",
       "      <th>nitr</th>\n",
       "      <td>29.910701</td>\n",
       "      <td>5.162313</td>\n",
       "    </tr>\n",
       "  </tbody>\n",
       "</table>\n",
       "</div>"
      ],
      "text/plain": [
       "             mean          std\n",
       "lat    -59.903027     7.542840\n",
       "lon      3.140392   118.452406\n",
       "pres  1264.076808  1299.684429\n",
       "temp     1.689565     2.498022\n",
       "sal     34.508702     0.300963\n",
       "oxy    230.972748    50.322881\n",
       "nitr    29.910701     5.162313"
      ]
     },
     "execution_count": 6,
     "metadata": {},
     "output_type": "execute_result"
    }
   ],
   "source": [
    "train_features.describe().transpose()[['mean', 'std']]\n"
   ]
  },
  {
   "cell_type": "code",
   "execution_count": 7,
   "metadata": {},
   "outputs": [],
   "source": [
    "normalizer = keras_preprocessing.Normalization()\n",
    "normalizer.adapt(np.array(train_features))"
   ]
  },
  {
   "cell_type": "code",
   "execution_count": 8,
   "metadata": {},
   "outputs": [],
   "source": [
    "# create dropout layer\n",
    "# from tensorflow.keras.layers.core import Lambda\n",
    "from tensorflow.keras import backend as K\n",
    "\n",
    "def PermaDropout(rate):\n",
    "    return keras.layers.Lambda(lambda x: K.dropout(x, level=rate))"
   ]
  },
  {
   "cell_type": "code",
   "execution_count": 9,
   "metadata": {
    "scrolled": true
   },
   "outputs": [
    {
     "name": "stdout",
     "output_type": "stream",
     "text": [
      "Epoch 1/100\n",
      "849/849 [==============================] - 2s 2ms/step - loss: 5.3603 - val_loss: 1.9364\n",
      "Epoch 2/100\n",
      "849/849 [==============================] - 1s 917us/step - loss: 1.4798 - val_loss: 0.5331\n",
      "Epoch 3/100\n",
      "849/849 [==============================] - 1s 1ms/step - loss: 0.3878 - val_loss: 0.1081\n",
      "Epoch 4/100\n",
      "849/849 [==============================] - 1s 926us/step - loss: 0.0748 - val_loss: 0.0247\n",
      "Epoch 5/100\n",
      "849/849 [==============================] - 1s 897us/step - loss: 0.0221 - val_loss: 0.0167\n",
      "Epoch 6/100\n",
      "849/849 [==============================] - 1s 1ms/step - loss: 0.0179 - val_loss: 0.0165\n",
      "Epoch 7/100\n",
      "849/849 [==============================] - 1s 1ms/step - loss: 0.0178 - val_loss: 0.0170\n",
      "Epoch 8/100\n",
      "849/849 [==============================] - 1s 874us/step - loss: 0.0185 - val_loss: 0.0176\n",
      "Epoch 9/100\n",
      "849/849 [==============================] - 1s 897us/step - loss: 0.0180 - val_loss: 0.0172\n",
      "Epoch 10/100\n",
      "849/849 [==============================] - 1s 868us/step - loss: 0.0173 - val_loss: 0.0163\n",
      "Epoch 11/100\n",
      "849/849 [==============================] - 1s 898us/step - loss: 0.0189 - val_loss: 0.0179\n",
      "Epoch 12/100\n",
      "849/849 [==============================] - 1s 883us/step - loss: 0.0188 - val_loss: 0.0154\n",
      "Epoch 13/100\n",
      "849/849 [==============================] - 1s 947us/step - loss: 0.0181 - val_loss: 0.0184\n",
      "Epoch 14/100\n",
      "849/849 [==============================] - 1s 993us/step - loss: 0.0180 - val_loss: 0.0174\n",
      "Epoch 15/100\n",
      "849/849 [==============================] - 1s 956us/step - loss: 0.0178 - val_loss: 0.0169\n",
      "Epoch 16/100\n",
      "849/849 [==============================] - 1s 905us/step - loss: 0.0174 - val_loss: 0.0165\n",
      "Epoch 17/100\n",
      "849/849 [==============================] - 1s 864us/step - loss: 0.0179 - val_loss: 0.0164\n",
      "Epoch 18/100\n",
      "849/849 [==============================] - 1s 910us/step - loss: 0.0184 - val_loss: 0.0180\n",
      "Epoch 19/100\n",
      "849/849 [==============================] - 1s 947us/step - loss: 0.0180 - val_loss: 0.0165\n",
      "Epoch 20/100\n",
      "849/849 [==============================] - 1s 947us/step - loss: 0.0186 - val_loss: 0.0176\n",
      "Epoch 21/100\n",
      "849/849 [==============================] - 1s 982us/step - loss: 0.0172 - val_loss: 0.0179\n",
      "Epoch 22/100\n",
      "849/849 [==============================] - 1s 966us/step - loss: 0.0190 - val_loss: 0.0172\n",
      "Epoch 23/100\n",
      "849/849 [==============================] - 1s 924us/step - loss: 0.0182 - val_loss: 0.0174\n",
      "Epoch 24/100\n",
      "849/849 [==============================] - 1s 883us/step - loss: 0.0180 - val_loss: 0.0166\n",
      "Epoch 25/100\n",
      "849/849 [==============================] - 1s 862us/step - loss: 0.0176 - val_loss: 0.0172\n",
      "Epoch 26/100\n",
      "849/849 [==============================] - 1s 873us/step - loss: 0.0181 - val_loss: 0.0171\n",
      "Epoch 27/100\n",
      "849/849 [==============================] - 1s 909us/step - loss: 0.0185 - val_loss: 0.0184\n",
      "Epoch 28/100\n",
      "849/849 [==============================] - 1s 897us/step - loss: 0.0178 - val_loss: 0.0189\n",
      "Epoch 29/100\n",
      "849/849 [==============================] - 1s 858us/step - loss: 0.0175 - val_loss: 0.0178\n",
      "Epoch 30/100\n",
      "849/849 [==============================] - 1s 878us/step - loss: 0.0179 - val_loss: 0.0177\n",
      "Epoch 31/100\n",
      "849/849 [==============================] - 1s 928us/step - loss: 0.0186 - val_loss: 0.0177\n",
      "Epoch 32/100\n",
      "849/849 [==============================] - 1s 878us/step - loss: 0.0165 - val_loss: 0.0177\n",
      "Epoch 33/100\n",
      "849/849 [==============================] - 1s 865us/step - loss: 0.0185 - val_loss: 0.0169\n",
      "Epoch 34/100\n",
      "849/849 [==============================] - 1s 903us/step - loss: 0.0193 - val_loss: 0.0176\n",
      "Epoch 35/100\n",
      "849/849 [==============================] - 1s 883us/step - loss: 0.0182 - val_loss: 0.0173\n",
      "Epoch 36/100\n",
      "849/849 [==============================] - 1s 907us/step - loss: 0.0197 - val_loss: 0.0170\n",
      "Epoch 37/100\n",
      "849/849 [==============================] - 1s 869us/step - loss: 0.0183 - val_loss: 0.0178\n",
      "Epoch 38/100\n",
      "849/849 [==============================] - 1s 871us/step - loss: 0.0191 - val_loss: 0.0182\n",
      "Epoch 39/100\n",
      "849/849 [==============================] - 1s 859us/step - loss: 0.0184 - val_loss: 0.0168\n",
      "Epoch 40/100\n",
      "849/849 [==============================] - 1s 906us/step - loss: 0.0180 - val_loss: 0.0172\n",
      "Epoch 41/100\n",
      "849/849 [==============================] - 1s 885us/step - loss: 0.0181 - val_loss: 0.0162\n",
      "Epoch 42/100\n",
      "849/849 [==============================] - 1s 884us/step - loss: 0.0180 - val_loss: 0.0166\n",
      "Epoch 43/100\n",
      "849/849 [==============================] - 1s 875us/step - loss: 0.0187 - val_loss: 0.0190\n",
      "Epoch 44/100\n",
      "849/849 [==============================] - 1s 878us/step - loss: 0.0173 - val_loss: 0.0181\n",
      "Epoch 45/100\n",
      "849/849 [==============================] - 1s 846us/step - loss: 0.0178 - val_loss: 0.0166\n",
      "Epoch 46/100\n",
      "849/849 [==============================] - 1s 838us/step - loss: 0.0189 - val_loss: 0.0170\n",
      "Epoch 47/100\n",
      "849/849 [==============================] - 1s 849us/step - loss: 0.0203 - val_loss: 0.0165\n",
      "Epoch 48/100\n",
      "849/849 [==============================] - 1s 876us/step - loss: 0.0175 - val_loss: 0.0177\n",
      "Epoch 49/100\n",
      "849/849 [==============================] - 1s 848us/step - loss: 0.0171 - val_loss: 0.0175\n",
      "Epoch 50/100\n",
      "849/849 [==============================] - 1s 856us/step - loss: 0.0177 - val_loss: 0.0168\n",
      "Epoch 51/100\n",
      "849/849 [==============================] - 1s 845us/step - loss: 0.0176 - val_loss: 0.0169\n",
      "Epoch 52/100\n",
      "849/849 [==============================] - 1s 832us/step - loss: 0.0180 - val_loss: 0.0177\n",
      "Epoch 53/100\n",
      "849/849 [==============================] - 1s 895us/step - loss: 0.0182 - val_loss: 0.0182\n",
      "Epoch 54/100\n",
      "849/849 [==============================] - 1s 849us/step - loss: 0.0180 - val_loss: 0.0172\n",
      "Epoch 55/100\n",
      "849/849 [==============================] - 1s 845us/step - loss: 0.0175 - val_loss: 0.0175\n",
      "Epoch 56/100\n",
      "849/849 [==============================] - 1s 840us/step - loss: 0.0175 - val_loss: 0.0161\n",
      "Epoch 57/100\n",
      "849/849 [==============================] - 1s 900us/step - loss: 0.0172 - val_loss: 0.0169\n",
      "Epoch 58/100\n",
      "849/849 [==============================] - 1s 857us/step - loss: 0.0177 - val_loss: 0.0182\n",
      "Epoch 59/100\n",
      "849/849 [==============================] - 1s 843us/step - loss: 0.0178 - val_loss: 0.0184\n",
      "Epoch 60/100\n",
      "849/849 [==============================] - 1s 865us/step - loss: 0.0182 - val_loss: 0.0179\n",
      "Epoch 61/100\n",
      "849/849 [==============================] - 1s 882us/step - loss: 0.0178 - val_loss: 0.0167\n",
      "Epoch 62/100\n",
      "849/849 [==============================] - 1s 852us/step - loss: 0.0183 - val_loss: 0.0174\n",
      "Epoch 63/100\n",
      "849/849 [==============================] - 1s 838us/step - loss: 0.0183 - val_loss: 0.0172\n",
      "Epoch 64/100\n",
      "849/849 [==============================] - 1s 851us/step - loss: 0.0192 - val_loss: 0.0177\n",
      "Epoch 65/100\n",
      "849/849 [==============================] - 1s 829us/step - loss: 0.0174 - val_loss: 0.0182\n",
      "Epoch 66/100\n",
      "849/849 [==============================] - 1s 878us/step - loss: 0.0183 - val_loss: 0.0161\n",
      "Epoch 67/100\n",
      "849/849 [==============================] - 1s 858us/step - loss: 0.0189 - val_loss: 0.0169\n",
      "Epoch 68/100\n",
      "849/849 [==============================] - 1s 846us/step - loss: 0.0188 - val_loss: 0.0167\n",
      "Epoch 69/100\n",
      "849/849 [==============================] - 1s 841us/step - loss: 0.0179 - val_loss: 0.0173\n",
      "Epoch 70/100\n",
      "849/849 [==============================] - 1s 918us/step - loss: 0.0177 - val_loss: 0.0153\n",
      "Epoch 71/100\n",
      "849/849 [==============================] - 1s 875us/step - loss: 0.0184 - val_loss: 0.0172\n",
      "Epoch 72/100\n",
      "849/849 [==============================] - 1s 872us/step - loss: 0.0192 - val_loss: 0.0164\n",
      "Epoch 73/100\n",
      "849/849 [==============================] - 1s 845us/step - loss: 0.0186 - val_loss: 0.0171\n",
      "Epoch 74/100\n",
      "849/849 [==============================] - 1s 862us/step - loss: 0.0181 - val_loss: 0.0164\n",
      "Epoch 75/100\n",
      "849/849 [==============================] - 1s 848us/step - loss: 0.0192 - val_loss: 0.0194\n",
      "Epoch 76/100\n",
      "849/849 [==============================] - 1s 851us/step - loss: 0.0164 - val_loss: 0.0171\n",
      "Epoch 77/100\n",
      "849/849 [==============================] - 1s 858us/step - loss: 0.0178 - val_loss: 0.0190\n",
      "Epoch 78/100\n",
      "849/849 [==============================] - 1s 856us/step - loss: 0.0188 - val_loss: 0.0171\n",
      "Epoch 79/100\n",
      "849/849 [==============================] - 1s 872us/step - loss: 0.0176 - val_loss: 0.0182\n"
     ]
    },
    {
     "name": "stdout",
     "output_type": "stream",
     "text": [
      "Epoch 80/100\n",
      "849/849 [==============================] - 1s 845us/step - loss: 0.0194 - val_loss: 0.0170\n",
      "Epoch 81/100\n",
      "849/849 [==============================] - 1s 848us/step - loss: 0.0172 - val_loss: 0.0173\n",
      "Epoch 82/100\n",
      "849/849 [==============================] - 1s 846us/step - loss: 0.0188 - val_loss: 0.0171\n",
      "Epoch 83/100\n",
      "849/849 [==============================] - 1s 892us/step - loss: 0.0179 - val_loss: 0.0171\n",
      "Epoch 84/100\n",
      "849/849 [==============================] - 1s 849us/step - loss: 0.0186 - val_loss: 0.0166\n",
      "Epoch 85/100\n",
      "849/849 [==============================] - 1s 882us/step - loss: 0.0175 - val_loss: 0.0170\n",
      "Epoch 86/100\n",
      "849/849 [==============================] - 1s 882us/step - loss: 0.0186 - val_loss: 0.0171\n",
      "Epoch 87/100\n",
      "849/849 [==============================] - 1s 905us/step - loss: 0.0174 - val_loss: 0.0167\n",
      "Epoch 88/100\n",
      "849/849 [==============================] - 1s 874us/step - loss: 0.0190 - val_loss: 0.0179\n",
      "Epoch 89/100\n",
      "849/849 [==============================] - 1s 910us/step - loss: 0.0185 - val_loss: 0.0176\n",
      "Epoch 90/100\n",
      "849/849 [==============================] - 1s 929us/step - loss: 0.0181 - val_loss: 0.0174\n",
      "Epoch 91/100\n",
      "849/849 [==============================] - 1s 887us/step - loss: 0.0173 - val_loss: 0.0163\n",
      "Epoch 92/100\n",
      "849/849 [==============================] - 1s 1ms/step - loss: 0.0179 - val_loss: 0.0174\n",
      "Epoch 93/100\n",
      "849/849 [==============================] - 1s 917us/step - loss: 0.0182 - val_loss: 0.0173\n",
      "Epoch 94/100\n",
      "849/849 [==============================] - 1s 882us/step - loss: 0.0187 - val_loss: 0.0173\n",
      "Epoch 95/100\n",
      "849/849 [==============================] - 1s 877us/step - loss: 0.0192 - val_loss: 0.0155\n",
      "Epoch 96/100\n",
      "849/849 [==============================] - 1s 865us/step - loss: 0.0179 - val_loss: 0.0171\n",
      "Epoch 97/100\n",
      "849/849 [==============================] - 1s 892us/step - loss: 0.0181 - val_loss: 0.0167\n",
      "Epoch 98/100\n",
      "849/849 [==============================] - 1s 863us/step - loss: 0.0188 - val_loss: 0.0179\n",
      "Epoch 99/100\n",
      "849/849 [==============================] - 1s 853us/step - loss: 0.0191 - val_loss: 0.0168\n",
      "Epoch 100/100\n",
      "849/849 [==============================] - 1s 980us/step - loss: 0.0168 - val_loss: 0.0184\n"
     ]
    }
   ],
   "source": [
    "# with permaDropout\n",
    "linear_model_phsp = tf.keras.Sequential([\n",
    "    normalizer, PermaDropout(0.2),\n",
    "    layers.Dense(units=1)\n",
    "])\n",
    "\n",
    "linear_model_phsp.compile(\n",
    "    optimizer=tf.optimizers.Adam(learning_rate=0.001),\n",
    "    loss='mean_squared_error')\n",
    "\n",
    "history = linear_model_phsp.fit(\n",
    "    train_features, train_phsp, \n",
    "    epochs=100,\n",
    "    # suppress logging\n",
    "    verbose=1,\n",
    "    # Calculate validation results on 20% of the training data\n",
    "    validation_split = 0.2)\n"
   ]
  },
  {
   "cell_type": "code",
   "execution_count": 10,
   "metadata": {},
   "outputs": [
    {
     "data": {
      "image/png": "[encoded data removed]",
      "text/plain": [
       "<Figure size 432x288 with 1 Axes>"
      ]
     },
     "metadata": {
      "needs_background": "light"
     },
     "output_type": "display_data"
    }
   ],
   "source": [
    "plt.plot(history.history['loss'], label='loss')\n",
    "plt.plot(history.history['val_loss'], label='val_loss')\n",
    "plt.ylim([0, 1])\n",
    "plt.xlabel('Epoch')\n",
    "plt.ylabel('Error [phsp]')\n",
    "plt.legend()\n",
    "plt.grid(True)"
   ]
  },
  {
   "cell_type": "code",
   "execution_count": 11,
   "metadata": {
    "scrolled": false
   },
   "outputs": [],
   "source": [
    "# predict phsp with dropout (100 times)\n",
    "predictions_lst = []\n",
    "for i in range(100):\n",
    "    test_predictions = linear_model_phsp.predict(test_features).flatten()\n",
    "    predictions_lst.append(test_predictions)"
   ]
  },
  {
   "cell_type": "code",
   "execution_count": 12,
   "metadata": {},
   "outputs": [],
   "source": [
    "# get means and standard deviations\n",
    "linear_phsp_arr = np.array(predictions_lst)\n",
    "linear_phsp_mean = np.mean(linear_phsp_arr, axis=0)\n",
    "linear_phsp_sd = np.std(linear_phsp_arr, axis=0)"
   ]
  },
  {
   "cell_type": "code",
   "execution_count": 13,
   "metadata": {},
   "outputs": [
    {
     "data": {
      "text/plain": [
       "Text(0, 0.5, 'Predictions [phsp]')"
      ]
     },
     "execution_count": 13,
     "metadata": {},
     "output_type": "execute_result"
    },
    {
     "data": {
      "image/png": "[encoded data removed]",
      "text/plain": [
       "<Figure size 432x288 with 1 Axes>"
      ]
     },
     "metadata": {
      "needs_background": "light"
     },
     "output_type": "display_data"
    }
   ],
   "source": [
    "# plot confidence intervals\n",
    "min_val = np.min(test_phsp)\n",
    "max_val = np.max(test_phsp)\n",
    "fig, ax = plt.subplots()\n",
    "diag_line = ax.plot(np.linspace(min_val,max_val,100),np.linspace(min_val,max_val,100), 'k--', alpha=0.2)\n",
    "ax.plot(np.sort(test_phsp), np.sort(linear_phsp_mean))\n",
    "ax.fill_between(np.sort(test_phsp), np.sort(linear_phsp_mean - 1.96*linear_phsp_sd), \n",
    "                np.sort(linear_phsp_mean + 1.96*linear_phsp_sd), alpha=0.2)\n",
    "plt.xlabel('True Values [phsp]')\n",
    "plt.ylabel('Predictions [phsp]')"
   ]
  },
  {
   "cell_type": "code",
   "execution_count": 14,
   "metadata": {
    "scrolled": true
   },
   "outputs": [
    {
     "name": "stdout",
     "output_type": "stream",
     "text": [
      "Epoch 1/100\n",
      "849/849 [==============================] - 1s 1ms/step - loss: 7986.8558 - val_loss: 7664.4570\n",
      "Epoch 2/100\n",
      "849/849 [==============================] - 1s 997us/step - loss: 7550.1201 - val_loss: 7343.3906\n",
      "Epoch 3/100\n",
      "849/849 [==============================] - 1s 939us/step - loss: 7335.1307 - val_loss: 7050.5288\n",
      "Epoch 4/100\n",
      "849/849 [==============================] - 1s 966us/step - loss: 7059.1710 - val_loss: 6783.5420\n",
      "Epoch 5/100\n",
      "849/849 [==============================] - 1s 876us/step - loss: 6709.0700 - val_loss: 6523.8174\n",
      "Epoch 6/100\n",
      "849/849 [==============================] - 1s 918us/step - loss: 6524.4724 - val_loss: 6297.8413\n",
      "Epoch 7/100\n",
      "849/849 [==============================] - 1s 967us/step - loss: 6326.4301 - val_loss: 6090.9678\n",
      "Epoch 8/100\n",
      "849/849 [==============================] - 1s 973us/step - loss: 6089.1233 - val_loss: 5899.4062\n",
      "Epoch 9/100\n",
      "849/849 [==============================] - 1s 871us/step - loss: 5893.8401 - val_loss: 5723.5449\n",
      "Epoch 10/100\n",
      "849/849 [==============================] - 1s 959us/step - loss: 5696.5678 - val_loss: 5548.0918\n",
      "Epoch 11/100\n",
      "849/849 [==============================] - 1s 943us/step - loss: 5551.7987 - val_loss: 5433.1133\n",
      "Epoch 12/100\n",
      "849/849 [==============================] - 1s 965us/step - loss: 5418.4810 - val_loss: 5244.6353\n",
      "Epoch 13/100\n",
      "849/849 [==============================] - 1s 949us/step - loss: 5246.0356 - val_loss: 5090.4834\n",
      "Epoch 14/100\n",
      "849/849 [==============================] - 1s 953us/step - loss: 5147.8990 - val_loss: 4979.5630\n",
      "Epoch 15/100\n",
      "849/849 [==============================] - 1s 925us/step - loss: 5000.4952 - val_loss: 4851.9951\n",
      "Epoch 16/100\n",
      "849/849 [==============================] - 1s 907us/step - loss: 4858.5478 - val_loss: 4745.7383\n",
      "Epoch 17/100\n",
      "849/849 [==============================] - 1s 952us/step - loss: 4714.9215 - val_loss: 4618.2002\n",
      "Epoch 18/100\n",
      "849/849 [==============================] - 1s 907us/step - loss: 4613.4225 - val_loss: 4462.7739\n",
      "Epoch 19/100\n",
      "849/849 [==============================] - 1s 940us/step - loss: 4521.7217 - val_loss: 4373.7817\n",
      "Epoch 20/100\n",
      "849/849 [==============================] - 1s 917us/step - loss: 4387.6320 - val_loss: 4279.5728\n",
      "Epoch 21/100\n",
      "849/849 [==============================] - 1s 953us/step - loss: 4311.3172 - val_loss: 4180.1660\n",
      "Epoch 22/100\n",
      "849/849 [==============================] - 1s 1ms/step - loss: 4164.0470 - val_loss: 4074.8293\n",
      "Epoch 23/100\n",
      "849/849 [==============================] - 1s 939us/step - loss: 4096.5817 - val_loss: 3941.8877\n",
      "Epoch 24/100\n",
      "849/849 [==============================] - 1s 1ms/step - loss: 3969.1500 - val_loss: 3830.0510\n",
      "Epoch 25/100\n",
      "849/849 [==============================] - 1s 915us/step - loss: 3855.3130 - val_loss: 3766.9612\n",
      "Epoch 26/100\n",
      "849/849 [==============================] - 1s 952us/step - loss: 3742.1210 - val_loss: 3657.7356\n",
      "Epoch 27/100\n",
      "849/849 [==============================] - 1s 1ms/step - loss: 3693.1003 - val_loss: 3552.5381\n",
      "Epoch 28/100\n",
      "849/849 [==============================] - 1s 929us/step - loss: 3565.3489 - val_loss: 3443.5364\n",
      "Epoch 29/100\n",
      "849/849 [==============================] - 1s 926us/step - loss: 3476.2608 - val_loss: 3363.7664\n",
      "Epoch 30/100\n",
      "849/849 [==============================] - 1s 971us/step - loss: 3383.8550 - val_loss: 3270.4849\n",
      "Epoch 31/100\n",
      "849/849 [==============================] - 1s 894us/step - loss: 3261.2295 - val_loss: 3191.3413\n",
      "Epoch 32/100\n",
      "849/849 [==============================] - 1s 872us/step - loss: 3197.4868 - val_loss: 3086.4719\n",
      "Epoch 33/100\n",
      "849/849 [==============================] - 1s 868us/step - loss: 3102.9946 - val_loss: 3001.8562\n",
      "Epoch 34/100\n",
      "849/849 [==============================] - 1s 942us/step - loss: 2996.8745 - val_loss: 2894.5359\n",
      "Epoch 35/100\n",
      "849/849 [==============================] - 1s 876us/step - loss: 2917.8063 - val_loss: 2843.4541\n",
      "Epoch 36/100\n",
      "849/849 [==============================] - 1s 898us/step - loss: 2831.6273 - val_loss: 2748.2991\n",
      "Epoch 37/100\n",
      "849/849 [==============================] - 1s 1ms/step - loss: 2764.4339 - val_loss: 2668.1077\n",
      "Epoch 38/100\n",
      "849/849 [==============================] - 1s 947us/step - loss: 2673.4366 - val_loss: 2575.0593\n",
      "Epoch 39/100\n",
      "849/849 [==============================] - 1s 895us/step - loss: 2597.5281 - val_loss: 2499.6953\n",
      "Epoch 40/100\n",
      "849/849 [==============================] - 1s 906us/step - loss: 2495.9808 - val_loss: 2440.6702\n",
      "Epoch 41/100\n",
      "849/849 [==============================] - 1s 877us/step - loss: 2437.4319 - val_loss: 2341.2917\n",
      "Epoch 42/100\n",
      "849/849 [==============================] - 1s 1ms/step - loss: 2350.3921 - val_loss: 2272.5957\n",
      "Epoch 43/100\n",
      "849/849 [==============================] - 1s 863us/step - loss: 2264.9069 - val_loss: 2192.0955\n",
      "Epoch 44/100\n",
      "849/849 [==============================] - 1s 976us/step - loss: 2190.4328 - val_loss: 2126.4363\n",
      "Epoch 45/100\n",
      "849/849 [==============================] - 1s 936us/step - loss: 2131.7611 - val_loss: 2052.1624\n",
      "Epoch 46/100\n",
      "849/849 [==============================] - 1s 933us/step - loss: 2066.7637 - val_loss: 1967.2612\n",
      "Epoch 47/100\n",
      "849/849 [==============================] - 1s 949us/step - loss: 1978.0582 - val_loss: 1928.9070\n",
      "Epoch 48/100\n",
      "849/849 [==============================] - 1s 914us/step - loss: 1917.6140 - val_loss: 1854.4415\n",
      "Epoch 49/100\n",
      "849/849 [==============================] - 1s 873us/step - loss: 1862.4323 - val_loss: 1783.6704\n",
      "Epoch 50/100\n",
      "849/849 [==============================] - 1s 967us/step - loss: 1780.4616 - val_loss: 1713.6515\n",
      "Epoch 51/100\n",
      "849/849 [==============================] - 1s 955us/step - loss: 1702.3384 - val_loss: 1660.1453\n",
      "Epoch 52/100\n",
      "849/849 [==============================] - 1s 926us/step - loss: 1641.3859 - val_loss: 1591.4799\n",
      "Epoch 53/100\n",
      "849/849 [==============================] - 1s 932us/step - loss: 1600.6664 - val_loss: 1538.0966\n",
      "Epoch 54/100\n",
      "849/849 [==============================] - 1s 1ms/step - loss: 1556.9595 - val_loss: 1486.2295\n",
      "Epoch 55/100\n",
      "849/849 [==============================] - 1s 844us/step - loss: 1475.7853 - val_loss: 1404.5317\n",
      "Epoch 56/100\n",
      "849/849 [==============================] - 1s 1ms/step - loss: 1427.2904 - val_loss: 1376.5546\n",
      "Epoch 57/100\n",
      "849/849 [==============================] - 1s 858us/step - loss: 1352.1633 - val_loss: 1302.5925\n",
      "Epoch 58/100\n",
      "849/849 [==============================] - 1s 901us/step - loss: 1302.6660 - val_loss: 1257.1033\n",
      "Epoch 59/100\n",
      "849/849 [==============================] - 1s 884us/step - loss: 1256.0605 - val_loss: 1233.1647\n",
      "Epoch 60/100\n",
      "849/849 [==============================] - 1s 862us/step - loss: 1214.1532 - val_loss: 1169.3134\n",
      "Epoch 61/100\n",
      "849/849 [==============================] - 1s 908us/step - loss: 1167.8341 - val_loss: 1100.7622\n",
      "Epoch 62/100\n",
      "849/849 [==============================] - 1s 904us/step - loss: 1122.5229 - val_loss: 1062.4972\n",
      "Epoch 63/100\n",
      "849/849 [==============================] - 1s 843us/step - loss: 1060.5293 - val_loss: 1011.7687\n",
      "Epoch 64/100\n",
      "849/849 [==============================] - 1s 904us/step - loss: 1002.5390 - val_loss: 974.3589\n",
      "Epoch 65/100\n",
      "849/849 [==============================] - 1s 860us/step - loss: 975.9094 - val_loss: 925.6890\n",
      "Epoch 66/100\n",
      "849/849 [==============================] - 1s 889us/step - loss: 913.6595 - val_loss: 887.2672\n",
      "Epoch 67/100\n",
      "849/849 [==============================] - 1s 906us/step - loss: 889.4342 - val_loss: 845.5061\n",
      "Epoch 68/100\n",
      "849/849 [==============================] - 1s 877us/step - loss: 838.2789 - val_loss: 803.9402\n",
      "Epoch 69/100\n",
      "849/849 [==============================] - 1s 875us/step - loss: 796.1574 - val_loss: 777.7285\n",
      "Epoch 70/100\n",
      "849/849 [==============================] - 1s 867us/step - loss: 766.7587 - val_loss: 716.1784\n",
      "Epoch 71/100\n",
      "849/849 [==============================] - 1s 885us/step - loss: 723.8289 - val_loss: 691.8851\n",
      "Epoch 72/100\n",
      "849/849 [==============================] - 1s 862us/step - loss: 689.8080 - val_loss: 653.0882\n",
      "Epoch 73/100\n",
      "849/849 [==============================] - 1s 854us/step - loss: 665.8639 - val_loss: 630.1010\n",
      "Epoch 74/100\n",
      "849/849 [==============================] - 1s 844us/step - loss: 617.3510 - val_loss: 602.1999\n",
      "Epoch 75/100\n",
      "849/849 [==============================] - 1s 897us/step - loss: 590.7594 - val_loss: 561.6926\n"
     ]
    },
    {
     "name": "stdout",
     "output_type": "stream",
     "text": [
      "Epoch 76/100\n",
      "849/849 [==============================] - 1s 879us/step - loss: 573.4481 - val_loss: 544.8035\n",
      "Epoch 77/100\n",
      "849/849 [==============================] - 1s 867us/step - loss: 533.1955 - val_loss: 511.1046\n",
      "Epoch 78/100\n",
      "849/849 [==============================] - 1s 870us/step - loss: 515.3836 - val_loss: 481.3892\n",
      "Epoch 79/100\n",
      "849/849 [==============================] - 1s 901us/step - loss: 486.5018 - val_loss: 454.3992\n",
      "Epoch 80/100\n",
      "849/849 [==============================] - 1s 853us/step - loss: 455.8718 - val_loss: 438.2675\n",
      "Epoch 81/100\n",
      "849/849 [==============================] - 1s 922us/step - loss: 437.7305 - val_loss: 413.1240\n",
      "Epoch 82/100\n",
      "849/849 [==============================] - 1s 961us/step - loss: 416.5174 - val_loss: 406.5553\n",
      "Epoch 83/100\n",
      "849/849 [==============================] - 1s 992us/step - loss: 400.0990 - val_loss: 389.7451\n",
      "Epoch 84/100\n",
      "849/849 [==============================] - 1s 965us/step - loss: 380.4401 - val_loss: 359.0769\n",
      "Epoch 85/100\n",
      "849/849 [==============================] - 1s 863us/step - loss: 368.7733 - val_loss: 343.4169\n",
      "Epoch 86/100\n",
      "849/849 [==============================] - 1s 904us/step - loss: 350.3188 - val_loss: 338.5947\n",
      "Epoch 87/100\n",
      "849/849 [==============================] - 1s 1ms/step - loss: 340.3766 - val_loss: 315.8478\n",
      "Epoch 88/100\n",
      "849/849 [==============================] - 1s 1ms/step - loss: 325.5692 - val_loss: 303.0331\n",
      "Epoch 89/100\n",
      "849/849 [==============================] - 1s 1ms/step - loss: 313.3009 - val_loss: 297.3680\n",
      "Epoch 90/100\n",
      "849/849 [==============================] - 1s 984us/step - loss: 290.6059 - val_loss: 278.0910\n",
      "Epoch 91/100\n",
      "849/849 [==============================] - 1s 961us/step - loss: 292.7571 - val_loss: 275.7115\n",
      "Epoch 92/100\n",
      "849/849 [==============================] - 1s 1ms/step - loss: 277.6235 - val_loss: 260.0736\n",
      "Epoch 93/100\n",
      "849/849 [==============================] - 1s 940us/step - loss: 276.3615 - val_loss: 260.9548\n",
      "Epoch 94/100\n",
      "849/849 [==============================] - 1s 949us/step - loss: 270.7560 - val_loss: 262.0166\n",
      "Epoch 95/100\n",
      "849/849 [==============================] - 1s 1ms/step - loss: 262.8859 - val_loss: 250.0568\n",
      "Epoch 96/100\n",
      "849/849 [==============================] - 1s 869us/step - loss: 257.0467 - val_loss: 243.0490\n",
      "Epoch 97/100\n",
      "849/849 [==============================] - 1s 866us/step - loss: 256.1565 - val_loss: 245.7398\n",
      "Epoch 98/100\n",
      "849/849 [==============================] - 1s 934us/step - loss: 254.6050 - val_loss: 245.3466\n",
      "Epoch 99/100\n",
      "849/849 [==============================] - 1s 941us/step - loss: 247.6597 - val_loss: 241.5467\n",
      "Epoch 100/100\n",
      "849/849 [==============================] - 1s 968us/step - loss: 250.4018 - val_loss: 238.6919\n"
     ]
    }
   ],
   "source": [
    "# with permaDropout\n",
    "linear_model_sili = tf.keras.Sequential([\n",
    "    normalizer, PermaDropout(0.2),\n",
    "    layers.Dense(units=1)\n",
    "])\n",
    "\n",
    "linear_model_sili.compile(\n",
    "    optimizer=tf.optimizers.Adam(learning_rate=0.001),\n",
    "    loss='mean_squared_error')\n",
    "\n",
    "history = linear_model_sili.fit(\n",
    "    train_features, train_sili, \n",
    "    epochs=100,\n",
    "    # suppress logging\n",
    "    verbose=1,\n",
    "    # Calculate validation results on 20% of the training data\n",
    "    validation_split = 0.2)\n"
   ]
  },
  {
   "cell_type": "code",
   "execution_count": 15,
   "metadata": {},
   "outputs": [
    {
     "data": {
      "image/png": "[encoded data removed]",
      "text/plain": [
       "<Figure size 432x288 with 1 Axes>"
      ]
     },
     "metadata": {
      "needs_background": "light"
     },
     "output_type": "display_data"
    }
   ],
   "source": [
    "plt.plot(history.history['loss'], label='loss')\n",
    "plt.plot(history.history['val_loss'], label='val_loss')\n",
    "plt.ylim([200, 8000])\n",
    "plt.xlabel('Epoch')\n",
    "plt.ylabel('Error [phsp]')\n",
    "plt.legend()\n",
    "plt.grid(True)"
   ]
  },
  {
   "cell_type": "code",
   "execution_count": 16,
   "metadata": {
    "scrolled": true
   },
   "outputs": [],
   "source": [
    "# predict sili with dropout (100 times)\n",
    "predictions_lst = []\n",
    "for i in range(100):\n",
    "    test_predictions = linear_model_sili.predict(test_features).flatten()\n",
    "    predictions_lst.append(test_predictions)"
   ]
  },
  {
   "cell_type": "code",
   "execution_count": 17,
   "metadata": {},
   "outputs": [],
   "source": [
    "# compute means and standard deviations\n",
    "linear_sili_arr = np.array(predictions_lst)\n",
    "linear_sili_mean = np.mean(linear_sili_arr, axis=0)\n",
    "linear_sili_sd = np.std(linear_sili_arr, axis=0)\n"
   ]
  },
  {
   "cell_type": "code",
   "execution_count": 18,
   "metadata": {},
   "outputs": [
    {
     "data": {
      "text/plain": [
       "Text(0, 0.5, 'Predictions [sili]')"
      ]
     },
     "execution_count": 18,
     "metadata": {},
     "output_type": "execute_result"
    },
    {
     "data": {
      "image/png": "[encoded data removed]",
      "text/plain": [
       "<Figure size 432x288 with 1 Axes>"
      ]
     },
     "metadata": {
      "needs_background": "light"
     },
     "output_type": "display_data"
    }
   ],
   "source": [
    "min_val = np.min(test_sili)\n",
    "max_val = np.max(test_sili)\n",
    "fig, ax = plt.subplots()\n",
    "diag_line = ax.plot(np.linspace(min_val,max_val,100),np.linspace(min_val,max_val,100), 'k--', alpha=0.2)\n",
    "ax.plot(np.sort(test_sili), np.sort(linear_sili_mean), '-')\n",
    "ax.fill_between(np.sort(test_sili), np.sort(linear_sili_mean - 1.96*linear_sili_sd), \n",
    "                np.sort(linear_sili_mean + 1.96*linear_sili_sd), alpha=0.2)\n",
    "plt.xlabel('True Values [sili]')\n",
    "plt.ylabel('Predictions [sili]')"
   ]
  },
  {
   "cell_type": "code",
   "execution_count": 19,
   "metadata": {},
   "outputs": [],
   "source": [
    "test_results = {}\n",
    "\n",
    "test_results['linear_model_phsp'] = linear_model_phsp.evaluate(test_features, test_phsp, verbose=0)\n",
    "\n",
    "test_results['linear_model_sili'] = linear_model_sili.evaluate(test_features, test_sili, verbose=0)\n"
   ]
  },
  {
   "cell_type": "code",
   "execution_count": 20,
   "metadata": {},
   "outputs": [],
   "source": [
    "### DNN regression\n",
    "def build_and_compile_model(norm):\n",
    "  model = keras.Sequential([\n",
    "      norm,\n",
    "      layers.Dense(64, activation='relu'),\n",
    "      layers.Dense(64, activation='relu'),\n",
    "      layers.Dense(1)\n",
    "  ])\n",
    "\n",
    "  model.compile(loss='mean_squared_error',\n",
    "                optimizer=tf.keras.optimizers.Adam(0.001))\n",
    "  return model"
   ]
  },
  {
   "cell_type": "code",
   "execution_count": 21,
   "metadata": {},
   "outputs": [],
   "source": [
    "# DNN model with permaDropout\n",
    "def build_and_compile_model_dropout(norm):\n",
    "  model = keras.Sequential([\n",
    "      norm,\n",
    "      layers.Dense(64, activation='relu'),\n",
    "      layers.Dense(64, activation='relu'),\n",
    "      PermaDropout(0.2),\n",
    "      layers.Dense(1)\n",
    "  ])\n",
    "\n",
    "  model.compile(loss='mean_squared_error',\n",
    "                optimizer=tf.keras.optimizers.Adam(0.001))\n",
    "  return model"
   ]
  },
  {
   "cell_type": "code",
   "execution_count": 22,
   "metadata": {
    "scrolled": true
   },
   "outputs": [
    {
     "name": "stdout",
     "output_type": "stream",
     "text": [
      "Model: \"sequential_2\"\n",
      "_________________________________________________________________\n",
      "Layer (type)                 Output Shape              Param #   \n",
      "=================================================================\n",
      "normalization (Normalization (None, 7)                 15        \n",
      "_________________________________________________________________\n",
      "dense_2 (Dense)              (None, 64)                512       \n",
      "_________________________________________________________________\n",
      "dense_3 (Dense)              (None, 64)                4160      \n",
      "_________________________________________________________________\n",
      "lambda_2 (Lambda)            (None, 64)                0         \n",
      "_________________________________________________________________\n",
      "dense_4 (Dense)              (None, 1)                 65        \n",
      "=================================================================\n",
      "Total params: 4,752\n",
      "Trainable params: 4,737\n",
      "Non-trainable params: 15\n",
      "_________________________________________________________________\n",
      "Epoch 1/100\n",
      "849/849 [==============================] - 2s 1ms/step - loss: 0.4604 - val_loss: 0.0515\n",
      "Epoch 2/100\n",
      "849/849 [==============================] - 1s 1ms/step - loss: 0.0470 - val_loss: 0.0374\n",
      "Epoch 3/100\n",
      "849/849 [==============================] - 1s 1ms/step - loss: 0.0359 - val_loss: 0.0319\n",
      "Epoch 4/100\n",
      "849/849 [==============================] - 1s 1ms/step - loss: 0.0295 - val_loss: 0.0263\n",
      "Epoch 5/100\n",
      "849/849 [==============================] - 1s 1ms/step - loss: 0.0233 - val_loss: 0.0197\n",
      "Epoch 6/100\n",
      "849/849 [==============================] - 1s 1ms/step - loss: 0.0178 - val_loss: 0.0144\n",
      "Epoch 7/100\n",
      "849/849 [==============================] - 1s 1ms/step - loss: 0.0142 - val_loss: 0.0107\n",
      "Epoch 8/100\n",
      "849/849 [==============================] - 1s 1ms/step - loss: 0.0103 - val_loss: 0.0088\n",
      "Epoch 9/100\n",
      "849/849 [==============================] - 1s 1ms/step - loss: 0.0080 - val_loss: 0.0067\n",
      "Epoch 10/100\n",
      "849/849 [==============================] - 1s 1ms/step - loss: 0.0066 - val_loss: 0.0060\n",
      "Epoch 11/100\n",
      "849/849 [==============================] - 1s 1ms/step - loss: 0.0055 - val_loss: 0.0049\n",
      "Epoch 12/100\n",
      "849/849 [==============================] - 1s 1ms/step - loss: 0.0050 - val_loss: 0.0051\n",
      "Epoch 13/100\n",
      "849/849 [==============================] - 1s 1ms/step - loss: 0.0049 - val_loss: 0.0043\n",
      "Epoch 14/100\n",
      "849/849 [==============================] - 1s 1ms/step - loss: 0.0046 - val_loss: 0.0045\n",
      "Epoch 15/100\n",
      "849/849 [==============================] - 1s 1ms/step - loss: 0.0044 - val_loss: 0.0042\n",
      "Epoch 16/100\n",
      "849/849 [==============================] - 1s 1ms/step - loss: 0.0045 - val_loss: 0.0039\n",
      "Epoch 17/100\n",
      "849/849 [==============================] - 1s 1ms/step - loss: 0.0042 - val_loss: 0.0039\n",
      "Epoch 18/100\n",
      "849/849 [==============================] - 1s 1ms/step - loss: 0.0043 - val_loss: 0.0037\n",
      "Epoch 19/100\n",
      "849/849 [==============================] - 1s 1ms/step - loss: 0.0042 - val_loss: 0.0042\n",
      "Epoch 20/100\n",
      "849/849 [==============================] - 1s 1ms/step - loss: 0.0042 - val_loss: 0.0038\n",
      "Epoch 21/100\n",
      "849/849 [==============================] - 1s 1ms/step - loss: 0.0041 - val_loss: 0.0037\n",
      "Epoch 22/100\n",
      "849/849 [==============================] - 1s 1ms/step - loss: 0.0040 - val_loss: 0.0036\n",
      "Epoch 23/100\n",
      "849/849 [==============================] - 1s 1ms/step - loss: 0.0039 - val_loss: 0.0037\n",
      "Epoch 24/100\n",
      "849/849 [==============================] - 1s 1ms/step - loss: 0.0040 - val_loss: 0.0035\n",
      "Epoch 25/100\n",
      "849/849 [==============================] - 1s 1ms/step - loss: 0.0038 - val_loss: 0.0037\n",
      "Epoch 26/100\n",
      "849/849 [==============================] - 1s 1ms/step - loss: 0.0038 - val_loss: 0.0036\n",
      "Epoch 27/100\n",
      "849/849 [==============================] - 1s 1ms/step - loss: 0.0039 - val_loss: 0.0035\n",
      "Epoch 28/100\n",
      "849/849 [==============================] - 1s 1ms/step - loss: 0.0038 - val_loss: 0.0034\n",
      "Epoch 29/100\n",
      "849/849 [==============================] - 1s 1ms/step - loss: 0.0038 - val_loss: 0.0036\n",
      "Epoch 30/100\n",
      "849/849 [==============================] - 1s 1ms/step - loss: 0.0038 - val_loss: 0.0034\n",
      "Epoch 31/100\n",
      "849/849 [==============================] - 1s 1ms/step - loss: 0.0038 - val_loss: 0.0035\n",
      "Epoch 32/100\n",
      "849/849 [==============================] - 1s 1ms/step - loss: 0.0037 - val_loss: 0.0038\n",
      "Epoch 33/100\n",
      "849/849 [==============================] - 1s 1ms/step - loss: 0.0038 - val_loss: 0.0033\n",
      "Epoch 34/100\n",
      "849/849 [==============================] - 1s 992us/step - loss: 0.0037 - val_loss: 0.0038\n",
      "Epoch 35/100\n",
      "849/849 [==============================] - 1s 1ms/step - loss: 0.0037 - val_loss: 0.0036\n",
      "Epoch 36/100\n",
      "849/849 [==============================] - 1s 986us/step - loss: 0.0037 - val_loss: 0.0032\n",
      "Epoch 37/100\n",
      "849/849 [==============================] - 1s 988us/step - loss: 0.0038 - val_loss: 0.0036\n",
      "Epoch 38/100\n",
      "849/849 [==============================] - 1s 999us/step - loss: 0.0038 - val_loss: 0.0032\n",
      "Epoch 39/100\n",
      "849/849 [==============================] - 1s 1ms/step - loss: 0.0038 - val_loss: 0.0033\n",
      "Epoch 40/100\n",
      "849/849 [==============================] - 1s 991us/step - loss: 0.0037 - val_loss: 0.0034\n",
      "Epoch 41/100\n",
      "849/849 [==============================] - 1s 1ms/step - loss: 0.0037 - val_loss: 0.0035\n",
      "Epoch 42/100\n",
      "849/849 [==============================] - 1s 1ms/step - loss: 0.0035 - val_loss: 0.0033\n",
      "Epoch 43/100\n",
      "849/849 [==============================] - 1s 1ms/step - loss: 0.0037 - val_loss: 0.0036\n",
      "Epoch 44/100\n",
      "849/849 [==============================] - 1s 988us/step - loss: 0.0036 - val_loss: 0.0033\n",
      "Epoch 45/100\n",
      "849/849 [==============================] - 1s 1ms/step - loss: 0.0036 - val_loss: 0.0032\n",
      "Epoch 46/100\n",
      "849/849 [==============================] - 1s 1ms/step - loss: 0.0036 - val_loss: 0.0036\n",
      "Epoch 47/100\n",
      "849/849 [==============================] - 1s 989us/step - loss: 0.0036 - val_loss: 0.0032\n",
      "Epoch 48/100\n",
      "849/849 [==============================] - 1s 984us/step - loss: 0.0036 - val_loss: 0.0033\n",
      "Epoch 49/100\n",
      "849/849 [==============================] - 1s 987us/step - loss: 0.0035 - val_loss: 0.0033\n",
      "Epoch 50/100\n",
      "849/849 [==============================] - 1s 1ms/step - loss: 0.0037 - val_loss: 0.0033\n",
      "Epoch 51/100\n",
      "849/849 [==============================] - 1s 998us/step - loss: 0.0034 - val_loss: 0.0034\n",
      "Epoch 52/100\n",
      "849/849 [==============================] - 1s 1ms/step - loss: 0.0036 - val_loss: 0.0033\n",
      "Epoch 53/100\n",
      "849/849 [==============================] - 1s 1ms/step - loss: 0.0034 - val_loss: 0.0035\n",
      "Epoch 54/100\n",
      "849/849 [==============================] - 1s 983us/step - loss: 0.0034 - val_loss: 0.0033\n",
      "Epoch 55/100\n",
      "849/849 [==============================] - 1s 986us/step - loss: 0.0034 - val_loss: 0.0032\n",
      "Epoch 56/100\n",
      "849/849 [==============================] - 1s 984us/step - loss: 0.0036 - val_loss: 0.0032\n",
      "Epoch 57/100\n",
      "849/849 [==============================] - 1s 1ms/step - loss: 0.0034 - val_loss: 0.0031\n",
      "Epoch 58/100\n",
      "849/849 [==============================] - 1s 991us/step - loss: 0.0035 - val_loss: 0.0034\n",
      "Epoch 59/100\n",
      "849/849 [==============================] - 1s 993us/step - loss: 0.0035 - val_loss: 0.0032\n",
      "Epoch 60/100\n",
      "849/849 [==============================] - 1s 992us/step - loss: 0.0034 - val_loss: 0.0031\n",
      "Epoch 61/100\n",
      "849/849 [==============================] - 1s 1ms/step - loss: 0.0034 - val_loss: 0.0035\n",
      "Epoch 62/100\n",
      "849/849 [==============================] - 1s 991us/step - loss: 0.0034 - val_loss: 0.0033\n",
      "Epoch 63/100\n",
      "849/849 [==============================] - 1s 993us/step - loss: 0.0034 - val_loss: 0.0032\n",
      "Epoch 64/100\n",
      "849/849 [==============================] - 1s 1ms/step - loss: 0.0033 - val_loss: 0.0032\n",
      "Epoch 65/100\n",
      "849/849 [==============================] - 1s 996us/step - loss: 0.0034 - val_loss: 0.0033\n",
      "Epoch 66/100\n",
      "849/849 [==============================] - 1s 989us/step - loss: 0.0035 - val_loss: 0.0031\n",
      "Epoch 67/100\n",
      "849/849 [==============================] - 1s 971us/step - loss: 0.0035 - val_loss: 0.0032\n",
      "Epoch 68/100\n",
      "849/849 [==============================] - 1s 1ms/step - loss: 0.0032 - val_loss: 0.0033\n",
      "Epoch 69/100\n",
      "849/849 [==============================] - 1s 986us/step - loss: 0.0033 - val_loss: 0.0030\n",
      "Epoch 70/100\n",
      "849/849 [==============================] - 1s 986us/step - loss: 0.0032 - val_loss: 0.0031\n",
      "Epoch 71/100\n"
     ]
    },
    {
     "name": "stdout",
     "output_type": "stream",
     "text": [
      "849/849 [==============================] - 1s 980us/step - loss: 0.0033 - val_loss: 0.0031\n",
      "Epoch 72/100\n",
      "849/849 [==============================] - 1s 999us/step - loss: 0.0034 - val_loss: 0.0031\n",
      "Epoch 73/100\n",
      "849/849 [==============================] - 1s 985us/step - loss: 0.0032 - val_loss: 0.0033\n",
      "Epoch 74/100\n",
      "849/849 [==============================] - 1s 985us/step - loss: 0.0033 - val_loss: 0.0033\n",
      "Epoch 75/100\n",
      "849/849 [==============================] - 1s 1ms/step - loss: 0.0033 - val_loss: 0.0030\n",
      "Epoch 76/100\n",
      "849/849 [==============================] - 1s 1ms/step - loss: 0.0032 - val_loss: 0.0031\n",
      "Epoch 77/100\n",
      "849/849 [==============================] - 1s 974us/step - loss: 0.0032 - val_loss: 0.0030\n",
      "Epoch 78/100\n",
      "849/849 [==============================] - 1s 972us/step - loss: 0.0033 - val_loss: 0.0031\n",
      "Epoch 79/100\n",
      "849/849 [==============================] - 1s 996us/step - loss: 0.0033 - val_loss: 0.0031\n",
      "Epoch 80/100\n",
      "849/849 [==============================] - 1s 980us/step - loss: 0.0033 - val_loss: 0.0029\n",
      "Epoch 81/100\n",
      "849/849 [==============================] - 1s 977us/step - loss: 0.0034 - val_loss: 0.0030\n",
      "Epoch 82/100\n",
      "849/849 [==============================] - 1s 983us/step - loss: 0.0032 - val_loss: 0.0031\n",
      "Epoch 83/100\n",
      "849/849 [==============================] - 1s 1ms/step - loss: 0.0032 - val_loss: 0.0035\n",
      "Epoch 84/100\n",
      "849/849 [==============================] - 1s 974us/step - loss: 0.0034 - val_loss: 0.0030\n",
      "Epoch 85/100\n",
      "849/849 [==============================] - 1s 969us/step - loss: 0.0033 - val_loss: 0.0032\n",
      "Epoch 86/100\n",
      "849/849 [==============================] - 1s 982us/step - loss: 0.0033 - val_loss: 0.0033\n",
      "Epoch 87/100\n",
      "849/849 [==============================] - 1s 1ms/step - loss: 0.0034 - val_loss: 0.0031\n",
      "Epoch 88/100\n",
      "849/849 [==============================] - 1s 999us/step - loss: 0.0033 - val_loss: 0.0029\n",
      "Epoch 89/100\n",
      "849/849 [==============================] - 1s 978us/step - loss: 0.0033 - val_loss: 0.0032\n",
      "Epoch 90/100\n",
      "849/849 [==============================] - 1s 983us/step - loss: 0.0032 - val_loss: 0.0028\n",
      "Epoch 91/100\n",
      "849/849 [==============================] - 1s 1ms/step - loss: 0.0032 - val_loss: 0.0029\n",
      "Epoch 92/100\n",
      "849/849 [==============================] - 1s 976us/step - loss: 0.0033 - val_loss: 0.0031\n",
      "Epoch 93/100\n",
      "849/849 [==============================] - 1s 979us/step - loss: 0.0032 - val_loss: 0.0029\n",
      "Epoch 94/100\n",
      "849/849 [==============================] - 1s 1ms/step - loss: 0.0031 - val_loss: 0.0030\n",
      "Epoch 95/100\n",
      "849/849 [==============================] - 1s 987us/step - loss: 0.0032 - val_loss: 0.0031\n",
      "Epoch 96/100\n",
      "849/849 [==============================] - 1s 977us/step - loss: 0.0032 - val_loss: 0.0029\n",
      "Epoch 97/100\n",
      "849/849 [==============================] - 1s 976us/step - loss: 0.0031 - val_loss: 0.0032\n",
      "Epoch 98/100\n",
      "849/849 [==============================] - 1s 1ms/step - loss: 0.0031 - val_loss: 0.0029\n",
      "Epoch 99/100\n",
      "849/849 [==============================] - 1s 976us/step - loss: 0.0030 - val_loss: 0.0029\n",
      "Epoch 100/100\n",
      "849/849 [==============================] - 1s 968us/step - loss: 0.0031 - val_loss: 0.0029\n"
     ]
    }
   ],
   "source": [
    "dnn_model_phsp = build_and_compile_model_dropout(normalizer)\n",
    "dnn_model_phsp.summary()\n",
    "\n",
    "history = dnn_model_phsp.fit(\n",
    "    train_features, train_phsp,\n",
    "    validation_split=0.2,\n",
    "    verbose=1, epochs=100)\n"
   ]
  },
  {
   "cell_type": "code",
   "execution_count": 23,
   "metadata": {
    "scrolled": true
   },
   "outputs": [
    {
     "data": {
      "image/png": "[encoded data removed]",
      "text/plain": [
       "<Figure size 432x288 with 1 Axes>"
      ]
     },
     "metadata": {
      "needs_background": "light"
     },
     "output_type": "display_data"
    }
   ],
   "source": [
    "plt.plot(history.history['loss'], label='loss')\n",
    "plt.plot(history.history['val_loss'], label='val_loss')\n",
    "plt.ylim([0.0, 0.05])\n",
    "plt.xlabel('Epoch')\n",
    "plt.ylabel('Error [phsp]')\n",
    "plt.legend()\n",
    "plt.grid(True)\n"
   ]
  },
  {
   "cell_type": "code",
   "execution_count": 24,
   "metadata": {
    "scrolled": true
   },
   "outputs": [],
   "source": [
    "# predict phsp with dropout (100 times)\n",
    "predictions_lst = []\n",
    "for i in range(100):\n",
    "    test_predictions = dnn_model_phsp.predict(test_features).flatten()\n",
    "    predictions_lst.append(test_predictions)"
   ]
  },
  {
   "cell_type": "code",
   "execution_count": 25,
   "metadata": {},
   "outputs": [],
   "source": [
    "# compute means and standard deviations\n",
    "dnn_phsp_arr = np.array(predictions_lst)\n",
    "dnn_phsp_mean = np.mean(dnn_phsp_arr, axis=0)\n",
    "dnn_phsp_sd = np.std(dnn_phsp_arr, axis=0)"
   ]
  },
  {
   "cell_type": "code",
   "execution_count": 26,
   "metadata": {},
   "outputs": [
    {
     "data": {
      "text/plain": [
       "Text(0, 0.5, 'Predictions [phsp]')"
      ]
     },
     "execution_count": 26,
     "metadata": {},
     "output_type": "execute_result"
    },
    {
     "data": {
      "image/png": "[encoded data removed]",
      "text/plain": [
       "<Figure size 432x288 with 1 Axes>"
      ]
     },
     "metadata": {
      "needs_background": "light"
     },
     "output_type": "display_data"
    }
   ],
   "source": [
    "min_val = np.min(test_phsp)\n",
    "max_val = np.max(test_phsp)\n",
    "fig, ax = plt.subplots()\n",
    "ax.plot(np.sort(test_phsp), np.sort(dnn_phsp_mean), '-')\n",
    "diag_line = ax.plot(np.linspace(min_val,max_val,100),np.linspace(min_val,max_val,100), 'k--', alpha=0.2)\n",
    "ax.fill_between(np.sort(test_phsp), np.sort(dnn_phsp_mean - 1.96*dnn_phsp_sd), \n",
    "                np.sort(dnn_phsp_mean + 1.96*dnn_phsp_sd), alpha=0.2)\n",
    "plt.xlabel('True Values [phsp]')\n",
    "plt.ylabel('Predictions [phsp]')"
   ]
  },
  {
   "cell_type": "code",
   "execution_count": 27,
   "metadata": {},
   "outputs": [
    {
     "name": "stdout",
     "output_type": "stream",
     "text": [
      "Model: \"sequential_3\"\n",
      "_________________________________________________________________\n",
      "Layer (type)                 Output Shape              Param #   \n",
      "=================================================================\n",
      "normalization (Normalization (None, 7)                 15        \n",
      "_________________________________________________________________\n",
      "dense_5 (Dense)              (None, 64)                512       \n",
      "_________________________________________________________________\n",
      "dense_6 (Dense)              (None, 64)                4160      \n",
      "_________________________________________________________________\n",
      "lambda_3 (Lambda)            (None, 64)                0         \n",
      "_________________________________________________________________\n",
      "dense_7 (Dense)              (None, 1)                 65        \n",
      "=================================================================\n",
      "Total params: 4,752\n",
      "Trainable params: 4,737\n",
      "Non-trainable params: 15\n",
      "_________________________________________________________________\n",
      "Epoch 1/100\n",
      "849/849 [==============================] - 1s 1ms/step - loss: 3022.4442 - val_loss: 125.8054\n",
      "Epoch 2/100\n",
      "849/849 [==============================] - 1s 1ms/step - loss: 121.7079 - val_loss: 111.5378\n",
      "Epoch 3/100\n",
      "849/849 [==============================] - 1s 1ms/step - loss: 110.8826 - val_loss: 105.5775\n",
      "Epoch 4/100\n",
      "849/849 [==============================] - 1s 1ms/step - loss: 105.3836 - val_loss: 103.7192\n",
      "Epoch 5/100\n",
      "849/849 [==============================] - 1s 1ms/step - loss: 101.0585 - val_loss: 96.1903\n",
      "Epoch 6/100\n",
      "849/849 [==============================] - 1s 993us/step - loss: 98.3080 - val_loss: 96.3821\n",
      "Epoch 7/100\n",
      "849/849 [==============================] - 1s 994us/step - loss: 96.1247 - val_loss: 94.6001\n",
      "Epoch 8/100\n",
      "849/849 [==============================] - 1s 1ms/step - loss: 93.5197 - val_loss: 91.9810\n",
      "Epoch 9/100\n",
      "849/849 [==============================] - 1s 1ms/step - loss: 93.0928 - val_loss: 92.6453\n",
      "Epoch 10/100\n",
      "849/849 [==============================] - 1s 1ms/step - loss: 90.1622 - val_loss: 90.9557\n",
      "Epoch 11/100\n",
      "849/849 [==============================] - 1s 991us/step - loss: 91.6473 - val_loss: 87.6773\n",
      "Epoch 12/100\n",
      "849/849 [==============================] - 1s 991us/step - loss: 88.9841 - val_loss: 89.1328\n",
      "Epoch 13/100\n",
      "849/849 [==============================] - 1s 1ms/step - loss: 88.0808 - val_loss: 87.3897\n",
      "Epoch 14/100\n",
      "849/849 [==============================] - 1s 991us/step - loss: 85.6026 - val_loss: 90.0935\n",
      "Epoch 15/100\n",
      "849/849 [==============================] - 1s 1ms/step - loss: 86.3780 - val_loss: 88.7389\n",
      "Epoch 16/100\n",
      "849/849 [==============================] - 1s 1ms/step - loss: 84.8064 - val_loss: 88.5453\n",
      "Epoch 17/100\n",
      "849/849 [==============================] - 1s 1ms/step - loss: 83.7009 - val_loss: 83.2677\n",
      "Epoch 18/100\n",
      "849/849 [==============================] - 1s 1ms/step - loss: 85.1980 - val_loss: 82.5369\n",
      "Epoch 19/100\n",
      "849/849 [==============================] - 1s 1ms/step - loss: 80.5090 - val_loss: 83.5389\n",
      "Epoch 20/100\n",
      "849/849 [==============================] - 1s 1ms/step - loss: 82.1921 - val_loss: 83.7592\n",
      "Epoch 21/100\n",
      "849/849 [==============================] - 1s 1ms/step - loss: 81.3105 - val_loss: 81.6418\n",
      "Epoch 22/100\n",
      "849/849 [==============================] - 1s 991us/step - loss: 81.6044 - val_loss: 78.2988\n",
      "Epoch 23/100\n",
      "849/849 [==============================] - 1s 993us/step - loss: 78.3311 - val_loss: 80.4207\n",
      "Epoch 24/100\n",
      "849/849 [==============================] - 1s 1ms/step - loss: 77.7175 - val_loss: 80.7295\n",
      "Epoch 25/100\n",
      "849/849 [==============================] - 1s 986us/step - loss: 80.1197 - val_loss: 78.2938\n",
      "Epoch 26/100\n",
      "849/849 [==============================] - 1s 989us/step - loss: 79.4485 - val_loss: 87.5321\n",
      "Epoch 27/100\n",
      "849/849 [==============================] - 1s 1ms/step - loss: 79.6355 - val_loss: 75.8132\n",
      "Epoch 28/100\n",
      "849/849 [==============================] - 1s 980us/step - loss: 76.1174 - val_loss: 74.4542\n",
      "Epoch 29/100\n",
      "849/849 [==============================] - 1s 985us/step - loss: 74.5541 - val_loss: 76.5999\n",
      "Epoch 30/100\n",
      "849/849 [==============================] - 1s 988us/step - loss: 73.7402 - val_loss: 79.9449\n",
      "Epoch 31/100\n",
      "849/849 [==============================] - 1s 1ms/step - loss: 75.8117 - val_loss: 74.4277\n",
      "Epoch 32/100\n",
      "849/849 [==============================] - 1s 987us/step - loss: 73.5723 - val_loss: 77.2996\n",
      "Epoch 33/100\n",
      "849/849 [==============================] - 1s 1ms/step - loss: 72.9380 - val_loss: 70.9188\n",
      "Epoch 34/100\n",
      "849/849 [==============================] - 1s 1ms/step - loss: 74.3029 - val_loss: 70.9512\n",
      "Epoch 35/100\n",
      "849/849 [==============================] - 1s 1ms/step - loss: 72.8181 - val_loss: 74.4164\n",
      "Epoch 36/100\n",
      "849/849 [==============================] - 1s 1ms/step - loss: 74.0015 - val_loss: 71.6577\n",
      "Epoch 37/100\n",
      "849/849 [==============================] - 1s 1ms/step - loss: 70.9182 - val_loss: 75.1030\n",
      "Epoch 38/100\n",
      "849/849 [==============================] - 1s 1ms/step - loss: 71.2697 - val_loss: 72.4128\n",
      "Epoch 39/100\n",
      "849/849 [==============================] - 1s 1ms/step - loss: 72.0886 - val_loss: 72.2229\n",
      "Epoch 40/100\n",
      "849/849 [==============================] - 1s 1ms/step - loss: 72.3287 - val_loss: 72.5960\n",
      "Epoch 41/100\n",
      "849/849 [==============================] - 1s 1ms/step - loss: 70.1640 - val_loss: 69.8622\n",
      "Epoch 42/100\n",
      "849/849 [==============================] - 1s 1ms/step - loss: 70.1995 - val_loss: 68.9785\n",
      "Epoch 43/100\n",
      "849/849 [==============================] - 1s 1ms/step - loss: 71.2296 - val_loss: 71.2222\n",
      "Epoch 44/100\n",
      "849/849 [==============================] - 1s 1ms/step - loss: 68.7944 - val_loss: 69.2641\n",
      "Epoch 45/100\n",
      "849/849 [==============================] - 1s 1ms/step - loss: 68.4928 - val_loss: 67.9641\n",
      "Epoch 46/100\n",
      "849/849 [==============================] - 1s 993us/step - loss: 67.4774 - val_loss: 66.5511\n",
      "Epoch 47/100\n",
      "849/849 [==============================] - 1s 988us/step - loss: 66.2386 - val_loss: 68.6695\n",
      "Epoch 48/100\n",
      "849/849 [==============================] - 1s 980us/step - loss: 66.2467 - val_loss: 65.1258\n",
      "Epoch 49/100\n",
      "849/849 [==============================] - 1s 1ms/step - loss: 67.0460 - val_loss: 66.6237\n",
      "Epoch 50/100\n",
      "849/849 [==============================] - 1s 1ms/step - loss: 64.1946 - val_loss: 66.4903\n",
      "Epoch 51/100\n",
      "849/849 [==============================] - 1s 1ms/step - loss: 63.6179 - val_loss: 63.2196\n",
      "Epoch 52/100\n",
      "849/849 [==============================] - 1s 995us/step - loss: 63.8960 - val_loss: 63.9268\n",
      "Epoch 53/100\n",
      "849/849 [==============================] - 1s 1ms/step - loss: 63.5801 - val_loss: 66.8498\n",
      "Epoch 54/100\n",
      "849/849 [==============================] - 1s 1ms/step - loss: 64.1037 - val_loss: 60.6886\n",
      "Epoch 55/100\n",
      "849/849 [==============================] - 1s 1ms/step - loss: 64.1944 - val_loss: 60.6688\n",
      "Epoch 56/100\n",
      "849/849 [==============================] - 1s 1ms/step - loss: 63.4976 - val_loss: 62.5442\n",
      "Epoch 57/100\n",
      "849/849 [==============================] - 1s 1ms/step - loss: 62.1994 - val_loss: 63.9685\n",
      "Epoch 58/100\n",
      "849/849 [==============================] - 1s 1ms/step - loss: 62.6778 - val_loss: 63.8876\n",
      "Epoch 59/100\n",
      "849/849 [==============================] - 1s 1ms/step - loss: 61.2042 - val_loss: 64.3807\n",
      "Epoch 60/100\n",
      "849/849 [==============================] - 1s 1ms/step - loss: 60.4487 - val_loss: 60.2409\n",
      "Epoch 61/100\n",
      "849/849 [==============================] - 1s 1ms/step - loss: 59.8875 - val_loss: 62.1229\n",
      "Epoch 62/100\n",
      "849/849 [==============================] - 1s 998us/step - loss: 58.7203 - val_loss: 61.6779\n",
      "Epoch 63/100\n",
      "849/849 [==============================] - 1s 1ms/step - loss: 61.5069 - val_loss: 59.0168\n",
      "Epoch 64/100\n",
      "849/849 [==============================] - 1s 1ms/step - loss: 59.6283 - val_loss: 61.2486\n",
      "Epoch 65/100\n",
      "849/849 [==============================] - 1s 1ms/step - loss: 60.9038 - val_loss: 62.0721\n",
      "Epoch 66/100\n",
      "849/849 [==============================] - 1s 1ms/step - loss: 58.4767 - val_loss: 59.0677\n",
      "Epoch 67/100\n",
      "849/849 [==============================] - 1s 1ms/step - loss: 59.0109 - val_loss: 56.5383\n",
      "Epoch 68/100\n",
      "849/849 [==============================] - 1s 1ms/step - loss: 58.7761 - val_loss: 57.9696\n",
      "Epoch 69/100\n"
     ]
    },
    {
     "name": "stdout",
     "output_type": "stream",
     "text": [
      "849/849 [==============================] - 1s 1ms/step - loss: 57.6130 - val_loss: 58.4423\n",
      "Epoch 70/100\n",
      "849/849 [==============================] - 1s 1ms/step - loss: 57.5274 - val_loss: 59.0162\n",
      "Epoch 71/100\n",
      "849/849 [==============================] - 1s 1ms/step - loss: 58.5579 - val_loss: 60.9706\n",
      "Epoch 72/100\n",
      "849/849 [==============================] - 1s 1ms/step - loss: 57.8542 - val_loss: 57.2694\n",
      "Epoch 73/100\n",
      "849/849 [==============================] - 1s 1ms/step - loss: 56.0462 - val_loss: 56.3485\n",
      "Epoch 74/100\n",
      "849/849 [==============================] - 1s 1ms/step - loss: 56.5823 - val_loss: 55.7068\n",
      "Epoch 75/100\n",
      "849/849 [==============================] - 1s 1ms/step - loss: 55.4466 - val_loss: 57.5532\n",
      "Epoch 76/100\n",
      "849/849 [==============================] - 1s 1ms/step - loss: 57.3105 - val_loss: 56.2079\n",
      "Epoch 77/100\n",
      "849/849 [==============================] - 1s 1ms/step - loss: 55.9031 - val_loss: 56.8545\n",
      "Epoch 78/100\n",
      "849/849 [==============================] - 1s 1ms/step - loss: 56.0010 - val_loss: 55.8938\n",
      "Epoch 79/100\n",
      "849/849 [==============================] - 1s 1ms/step - loss: 55.3375 - val_loss: 54.7899\n",
      "Epoch 80/100\n",
      "849/849 [==============================] - 1s 1ms/step - loss: 56.2898 - val_loss: 54.8623\n",
      "Epoch 81/100\n",
      "849/849 [==============================] - 1s 992us/step - loss: 55.2191 - val_loss: 55.4281\n",
      "Epoch 82/100\n",
      "849/849 [==============================] - 1s 1ms/step - loss: 54.1712 - val_loss: 54.3938\n",
      "Epoch 83/100\n",
      "849/849 [==============================] - 1s 985us/step - loss: 53.7752 - val_loss: 53.6044\n",
      "Epoch 84/100\n",
      "849/849 [==============================] - 1s 994us/step - loss: 54.0453 - val_loss: 54.3497\n",
      "Epoch 85/100\n",
      "849/849 [==============================] - 1s 1ms/step - loss: 54.7078 - val_loss: 51.7952\n",
      "Epoch 86/100\n",
      "849/849 [==============================] - 1s 992us/step - loss: 51.7923 - val_loss: 59.7418\n",
      "Epoch 87/100\n",
      "849/849 [==============================] - 1s 1000us/step - loss: 52.4958 - val_loss: 52.9374\n",
      "Epoch 88/100\n",
      "849/849 [==============================] - 1s 991us/step - loss: 52.3488 - val_loss: 54.0218\n",
      "Epoch 89/100\n",
      "849/849 [==============================] - 1s 1ms/step - loss: 53.0124 - val_loss: 51.3239\n",
      "Epoch 90/100\n",
      "849/849 [==============================] - 1s 991us/step - loss: 53.0086 - val_loss: 50.9464\n",
      "Epoch 91/100\n",
      "849/849 [==============================] - 1s 990us/step - loss: 52.6111 - val_loss: 50.6754\n",
      "Epoch 92/100\n",
      "849/849 [==============================] - 1s 992us/step - loss: 51.0395 - val_loss: 52.1025\n",
      "Epoch 93/100\n",
      "849/849 [==============================] - 1s 1ms/step - loss: 50.7845 - val_loss: 52.0723\n",
      "Epoch 94/100\n",
      "849/849 [==============================] - 1s 1ms/step - loss: 50.8533 - val_loss: 51.2102\n",
      "Epoch 95/100\n",
      "849/849 [==============================] - 1s 1ms/step - loss: 49.2798 - val_loss: 51.6913\n",
      "Epoch 96/100\n",
      "849/849 [==============================] - 1s 1ms/step - loss: 50.0579 - val_loss: 51.8703\n",
      "Epoch 97/100\n",
      "849/849 [==============================] - 1s 1ms/step - loss: 49.3894 - val_loss: 49.4198\n",
      "Epoch 98/100\n",
      "849/849 [==============================] - 1s 1ms/step - loss: 49.6867 - val_loss: 48.9322\n",
      "Epoch 99/100\n",
      "849/849 [==============================] - 1s 1ms/step - loss: 50.0604 - val_loss: 48.4682\n",
      "Epoch 100/100\n",
      "849/849 [==============================] - 1s 1ms/step - loss: 48.0353 - val_loss: 52.1935\n"
     ]
    }
   ],
   "source": [
    "dnn_model_sili = build_and_compile_model_dropout(normalizer)\n",
    "dnn_model_sili.summary()\n",
    "\n",
    "history = dnn_model_sili.fit(\n",
    "    train_features, train_sili,\n",
    "    validation_split=0.2,\n",
    "    verbose=1, epochs=100)\n"
   ]
  },
  {
   "cell_type": "code",
   "execution_count": 28,
   "metadata": {},
   "outputs": [
    {
     "data": {
      "image/png": "[encoded data removed]",
      "text/plain": [
       "<Figure size 432x288 with 1 Axes>"
      ]
     },
     "metadata": {
      "needs_background": "light"
     },
     "output_type": "display_data"
    }
   ],
   "source": [
    "plt.plot(history.history['loss'], label='loss')\n",
    "plt.plot(history.history['val_loss'], label='val_loss')\n",
    "plt.ylim([40, 1000])\n",
    "plt.xlabel('Epoch')\n",
    "plt.ylabel('Error [sili]')\n",
    "plt.legend()\n",
    "plt.grid(True)\n"
   ]
  },
  {
   "cell_type": "code",
   "execution_count": 29,
   "metadata": {
    "scrolled": true
   },
   "outputs": [],
   "source": [
    "# predict sili with dropout (100 times)\n",
    "predictions_lst = []\n",
    "for i in range(100):\n",
    "    test_predictions = dnn_model_sili.predict(test_features).flatten()\n",
    "    predictions_lst.append(test_predictions)"
   ]
  },
  {
   "cell_type": "code",
   "execution_count": 30,
   "metadata": {},
   "outputs": [],
   "source": [
    "# compute means and standard deviations\n",
    "dnn_sili_arr = np.array(predictions_lst)\n",
    "dnn_sili_mean = np.mean(dnn_sili_arr, axis=0)\n",
    "dnn_sili_sd = np.std(dnn_sili_arr, axis=0)"
   ]
  },
  {
   "cell_type": "code",
   "execution_count": 31,
   "metadata": {},
   "outputs": [
    {
     "data": {
      "text/plain": [
       "Text(0, 0.5, 'Predictions [sili]')"
      ]
     },
     "execution_count": 31,
     "metadata": {},
     "output_type": "execute_result"
    },
    {
     "data": {
      "image/png": "[encoded data removed]",
      "text/plain": [
       "<Figure size 432x288 with 1 Axes>"
      ]
     },
     "metadata": {
      "needs_background": "light"
     },
     "output_type": "display_data"
    }
   ],
   "source": [
    "min_val = np.min(test_sili)\n",
    "max_val = np.max(test_sili)\n",
    "fig, ax = plt.subplots()\n",
    "ax.plot(np.sort(test_sili), np.sort(dnn_sili_mean), '-')\n",
    "diag_line = ax.plot(np.linspace(min_val,max_val,100),np.linspace(min_val,max_val,100), 'k--', alpha=0.2)\n",
    "ax.fill_between(np.sort(test_sili), np.sort(dnn_sili_mean - 1.96*dnn_sili_sd), \n",
    "                np.sort(dnn_sili_mean + 1.96*dnn_sili_sd), alpha=0.2)\n",
    "plt.xlabel('True Values [sili]')\n",
    "plt.ylabel('Predictions [sili]')"
   ]
  },
  {
   "cell_type": "code",
   "execution_count": 32,
   "metadata": {},
   "outputs": [],
   "source": [
    "# save errors\n",
    "test_results['dnn_phsp_model'] = dnn_model_phsp.evaluate(test_features, test_phsp, verbose=0)\n",
    "\n",
    "test_results['dnn_sili_model'] = dnn_model_sili.evaluate(test_features, test_sili, verbose=0)"
   ]
  },
  {
   "cell_type": "code",
   "execution_count": 33,
   "metadata": {},
   "outputs": [
    {
     "data": {
      "text/html": [
       "<div>\n",
       "<style scoped>\n",
       "    .dataframe tbody tr th:only-of-type {\n",
       "        vertical-align: middle;\n",
       "    }\n",
       "\n",
       "    .dataframe tbody tr th {\n",
       "        vertical-align: top;\n",
       "    }\n",
       "\n",
       "    .dataframe thead th {\n",
       "        text-align: right;\n",
       "    }\n",
       "</style>\n",
       "<table border=\"1\" class=\"dataframe\">\n",
       "  <thead>\n",
       "    <tr style=\"text-align: right;\">\n",
       "      <th></th>\n",
       "      <th>Mean squared error</th>\n",
       "    </tr>\n",
       "  </thead>\n",
       "  <tbody>\n",
       "    <tr>\n",
       "      <th>linear_model_phsp</th>\n",
       "      <td>0.019183</td>\n",
       "    </tr>\n",
       "    <tr>\n",
       "      <th>linear_model_sili</th>\n",
       "      <td>243.012985</td>\n",
       "    </tr>\n",
       "    <tr>\n",
       "      <th>dnn_phsp_model</th>\n",
       "      <td>0.003122</td>\n",
       "    </tr>\n",
       "    <tr>\n",
       "      <th>dnn_sili_model</th>\n",
       "      <td>49.607903</td>\n",
       "    </tr>\n",
       "  </tbody>\n",
       "</table>\n",
       "</div>"
      ],
      "text/plain": [
       "                   Mean squared error\n",
       "linear_model_phsp            0.019183\n",
       "linear_model_sili          243.012985\n",
       "dnn_phsp_model               0.003122\n",
       "dnn_sili_model              49.607903"
      ]
     },
     "execution_count": 33,
     "metadata": {},
     "output_type": "execute_result"
    }
   ],
   "source": [
    "pd.DataFrame(test_results, index=['Mean squared error']).T"
   ]
  },
  {
   "cell_type": "code",
   "execution_count": 34,
   "metadata": {},
   "outputs": [
    {
     "data": {
      "text/plain": [
       "Text(0, 0.5, 'predicted sili')"
      ]
     },
     "execution_count": 34,
     "metadata": {},
     "output_type": "execute_result"
    },
    {
     "data": {
      "image/png": "[encoded data removed]",
      "text/plain": [
       "<Figure size 1080x1080 with 4 Axes>"
      ]
     },
     "metadata": {
      "needs_background": "light"
     },
     "output_type": "display_data"
    }
   ],
   "source": [
    "min_phsp = np.min(test_phsp)\n",
    "max_phsp = np.max(test_phsp)\n",
    "min_sili = np.min(test_sili)\n",
    "max_sili = np.max(test_sili)\n",
    "\n",
    "\n",
    "fig, axs = plt.subplots(2, 2, figsize=(15,15))\n",
    "\n",
    "# regression phsp\n",
    "axs[0, 0].plot(np.linspace(min_phsp,max_phsp,100),np.linspace(min_phsp,max_phsp,100), 'k--', alpha=0.2)\n",
    "axs[0, 0].plot(np.sort(test_phsp), np.sort(linear_phsp_mean))\n",
    "axs[0, 0].fill_between(np.sort(test_phsp), np.sort(linear_phsp_mean - 1.96*linear_phsp_sd), \n",
    "                np.sort(linear_phsp_mean + 1.96*linear_phsp_sd), alpha=0.2)\n",
    "# axs[0, 0].set_title('Axis [0, 0]')\n",
    "\n",
    "# regression sili\n",
    "axs[0, 1].plot(np.linspace(min_sili,max_sili,100),np.linspace(min_sili,max_sili,100), 'k--', alpha=0.2)\n",
    "axs[0, 1].plot(np.sort(test_sili), np.sort(linear_sili_mean))\n",
    "axs[0, 1].fill_between(np.sort(test_sili), np.sort(linear_sili_mean - 1.96*linear_sili_sd), \n",
    "                np.sort(linear_sili_mean + 1.96*linear_sili_sd), alpha=0.2)\n",
    "\n",
    "# dnn phsp\n",
    "axs[1, 0].plot(np.linspace(min_phsp,max_phsp,100),np.linspace(min_phsp,max_phsp,100), 'k--', alpha=0.2)\n",
    "axs[1, 0].plot(np.sort(test_phsp), np.sort(dnn_phsp_mean))\n",
    "axs[1, 0].fill_between(np.sort(test_phsp), np.sort(dnn_phsp_mean - 1.96*dnn_phsp_sd), \n",
    "                np.sort(dnn_phsp_mean + 1.96*dnn_phsp_sd), alpha=0.2)\n",
    "\n",
    "# dnn sili\n",
    "axs[1, 1].plot(np.linspace(min_sili,max_sili,100),np.linspace(min_sili,max_sili,100), 'k--', alpha=0.2)\n",
    "axs[1, 1].plot(np.sort(test_sili), np.sort(dnn_sili_mean))\n",
    "axs[1, 1].fill_between(np.sort(test_sili), np.sort(dnn_sili_mean - 1.96*dnn_sili_sd), \n",
    "                np.sort(dnn_sili_mean + 1.96*dnn_sili_sd), alpha=0.2)\n",
    "\n",
    "# axs[0, 1].set_title('Axis [0, 1]')\n",
    "# axs[1, 0].plot(x, -y, 'tab:green')\n",
    "# axs[1, 0].set_title('Axis [1, 0]')\n",
    "# axs[1, 1].plot(x, -y, 'tab:red')\n",
    "# axs[1, 1].set_title('Axis [1, 1]')\n",
    "\n",
    "axs[1,0].set_xlabel('true phsp', fontsize=16)\n",
    "axs[0,0].set_ylabel('predicted phsp', fontsize=16)\n",
    "axs[1,0].set_ylabel('predicred phsp', fontsize=16)\n",
    "axs[1,1].set_xlabel('true sili', fontsize=16)\n",
    "axs[0,1].set_ylabel('predicted sili', fontsize=16)\n",
    "axs[1,1].set_ylabel('predicted sili', fontsize=16)\n",
    "\n",
    "# for ax in axs.flat:\n",
    "#     ax.set(xlabel='true', ylabel='predicted')\n",
    "\n",
    "# Hide x labels and tick labels for top plots and y ticks for right plots.\n",
    "# for ax in axs.flat:\n",
    "#     ax.label_outer()"
   ]
  }
 ],
 "metadata": {
  "accelerator": "GPU",
  "colab": {
   "name": "NN_milestone.ipynb",
   "provenance": []
  },
  "kernelspec": {
   "display_name": "Python 3",
   "language": "python",
   "name": "python3"
  },
  "language_info": {
   "codemirror_mode": {
    "name": "ipython",
    "version": 3
   },
   "file_extension": ".py",
   "mimetype": "text/x-python",
   "name": "python",
   "nbconvert_exporter": "python",
   "pygments_lexer": "ipython3",
   "version": "3.8.3"
  }
 },
 "nbformat": 4,
 "nbformat_minor": 1
}
